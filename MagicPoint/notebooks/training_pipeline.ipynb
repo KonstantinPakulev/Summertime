{
 "cells": [
  {
   "cell_type": "code",
   "execution_count": 10,
   "metadata": {
    "collapsed": true,
    "pycharm": {
     "is_executing": false
    }
   },
   "outputs": [
    {
     "name": "stdout",
     "text": [
      "The autoreload extension is already loaded. To reload it, use:\n  %reload_ext autoreload\n"
     ],
     "output_type": "stream"
    }
   ],
   "source": [
    "import cv2\n",
    "import numpy as np\n",
    "import os\n",
    "from pathlib import Path\n",
    "\n",
    "import torch\n",
    "from torch import optim\n",
    "from torch.utils.data import DataLoader\n",
    "from torch.utils.tensorboard import SummaryWriter\n",
    "\n",
    "from MagicPoint.dataset.artificial_dataset import ArtificialDataset, available_modes\n",
    "from MagicPoint.model.magic_point import MagicPoint\n",
    "from common.model_utils import detector_loss\n",
    "from common.utils import *\n",
    "\n",
    "%load_ext autoreload\n",
    "%autoreload 2\n",
    "%matplotlib inline\n"
   ]
  },
  {
   "cell_type": "code",
   "execution_count": 6,
   "outputs": [],
   "source": [
    "config = load_config('../configs/config_toy.yaml')\n",
    "data_config = config['data']\n",
    "model_config = config['model']\n",
    "experiment_config = config['experiment']\n"
   ],
   "metadata": {
    "collapsed": false,
    "pycharm": {
     "name": "#%%\n",
     "is_executing": false
    }
   }
  },
  {
   "cell_type": "code",
   "execution_count": 8,
   "outputs": [],
   "source": [
    "set_seed(experiment_config['seed'])\n",
    "num_epochs = experiment_config['num_epochs']\n",
    "\n",
    "save_interval = experiment_config['save_interval']\n",
    "keep_checkpoints = experiment_config['keep_checkpoints']\n"
   ],
   "metadata": {
    "collapsed": false,
    "pycharm": {
     "name": "#%%\n",
     "is_executing": false
    }
   }
  },
  {
   "cell_type": "code",
   "execution_count": 9,
   "outputs": [],
   "source": [
    "train_dataset = ArtificialDataset(available_modes[0], data_config)\n",
    "val_dataset = ArtificialDataset(available_modes[1], data_config)\n",
    "test_dataset = ArtificialDataset(available_modes[2], data_config)\n",
    "\n",
    "train_data_loader = DataLoader(train_dataset, model_config['batch_size'], collate_fn=collate,\n",
    "                               shuffle=True, num_workers=4)\n",
    "val_data_loader = DataLoader(val_dataset, model_config['val_batch_size'], collate_fn=collate, \n",
    "                             shuffle=True, num_workers=2)\n",
    "test_data_loader = DataLoader(test_dataset, 1, collate_fn=collate, \n",
    "                             shuffle=True)\n"
   ],
   "metadata": {
    "collapsed": false,
    "pycharm": {
     "name": "#%%\n",
     "is_executing": false
    }
   }
  },
  {
   "cell_type": "code",
   "execution_count": null,
   "outputs": [],
   "source": [
    "model = MagicPoint(model_config)\n",
    "optimizer = optim.Adam(model.parameters(), lr=model_config['learning_rate'])\n",
    "\n",
    "if experiment_config['load_checkpoints']:\n",
    "    base_path = Path(experiment_config['checkpoints_path'], experiment_config['name'])\n",
    "    base_path.mkdir(parents=True, exist_ok=True)\n",
    "    \n",
    "    checkpoint_path = base_path.joinpath(get_checkpoint_name(model_config['name'], \n",
    "                                                             experiment_config['checkpoint_iter']))\n",
    "    if checkpoint_path.exists():\n",
    "        model_sd, optimizer_sd = load_checkpoint(checkpoint_path)\n",
    "        model.load_state_dict(model_sd)\n",
    "        optimizer.load_state_dict(optimizer_sd)\n"
   ],
   "metadata": {
    "collapsed": false,
    "pycharm": {
     "name": "#%%\n",
     "is_executing": true
    }
   }
  },
  {
   "cell_type": "code",
   "execution_count": null,
   "outputs": [],
   "source": [
    "for i in range(num_epochs):\n",
    "    \n",
    "    model.train()\n",
    "    for x, y in train_data_loader:\n",
    "        optimizer.zero_grad()\n",
    "        \n",
    "        y_pred = model(x)\n",
    "        loss = detector_loss(y_pred['logits'], y, model_config)\n",
    "        \n",
    "        loss.backward()\n",
    "        optimizer.step()\n",
    "        \n",
    "        # here add loss to tb\n",
    "        # here calculate metric and also ad it to tb\n",
    "        \n",
    "    model.eval()\n",
    "    with torch.no_grad():\n",
    "        for x, y in val_data_loader:\n",
    "            y_pred = model(x)\n",
    "            loss = detector_loss(y_pred['logits'], y, model_config)\n",
    "            \n",
    "            # here calculate metric and add it to tb\n",
    "    \n",
    "    # Here each n iterations:\n",
    "    # Save model\n",
    "    # Add early stopping\n",
    "    # Make a picture of model's performance from  train/val/test set each n epochs\n",
    "          "
   ],
   "metadata": {
    "collapsed": false,
    "pycharm": {
     "name": "#%%\n",
     "is_executing": true
    }
   }
  },
  {
   "cell_type": "code",
   "execution_count": null,
   "outputs": [],
   "source": [],
   "metadata": {
    "collapsed": false,
    "pycharm": {
     "name": "#%%\n"
    }
   }
  }
 ],
 "metadata": {
  "language_info": {
   "codemirror_mode": {
    "name": "ipython",
    "version": 2
   },
   "file_extension": ".py",
   "mimetype": "text/x-python",
   "name": "python",
   "nbconvert_exporter": "python",
   "pygments_lexer": "ipython2",
   "version": "2.7.6"
  },
  "kernelspec": {
   "name": "pycharm-95606ff0",
   "language": "python",
   "display_name": "PyCharm (Summertime)"
  },
  "pycharm": {
   "stem_cell": {
    "cell_type": "raw",
    "source": [],
    "metadata": {
     "collapsed": false
    }
   }
  }
 },
 "nbformat": 4,
 "nbformat_minor": 0
}