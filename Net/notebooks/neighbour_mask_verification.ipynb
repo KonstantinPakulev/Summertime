{
 "cells": [
  {
   "cell_type": "code",
   "execution_count": 10,
   "metadata": {},
   "outputs": [
    {
     "name": "stderr",
     "output_type": "stream",
     "text": [
      "In /home/konstantin/.local/lib/python3.6/site-packages/matplotlib/mpl-data/stylelib/_classic_test.mplstyle: \n",
      "The text.latex.preview rcparam was deprecated in Matplotlib 3.3 and will be removed two minor releases later.\n",
      "In /home/konstantin/.local/lib/python3.6/site-packages/matplotlib/mpl-data/stylelib/_classic_test.mplstyle: \n",
      "The mathtext.fallback_to_cm rcparam was deprecated in Matplotlib 3.3 and will be removed two minor releases later.\n",
      "In /home/konstantin/.local/lib/python3.6/site-packages/matplotlib/mpl-data/stylelib/_classic_test.mplstyle: Support for setting the 'mathtext.fallback_to_cm' rcParam is deprecated since 3.3 and will be removed two minor releases later; use 'mathtext.fallback : 'cm' instead.\n",
      "In /home/konstantin/.local/lib/python3.6/site-packages/matplotlib/mpl-data/stylelib/_classic_test.mplstyle: \n",
      "The validate_bool_maybe_none function was deprecated in Matplotlib 3.3 and will be removed two minor releases later.\n",
      "In /home/konstantin/.local/lib/python3.6/site-packages/matplotlib/mpl-data/stylelib/_classic_test.mplstyle: \n",
      "The savefig.jpeg_quality rcparam was deprecated in Matplotlib 3.3 and will be removed two minor releases later.\n",
      "In /home/konstantin/.local/lib/python3.6/site-packages/matplotlib/mpl-data/stylelib/_classic_test.mplstyle: \n",
      "The keymap.all_axes rcparam was deprecated in Matplotlib 3.3 and will be removed two minor releases later.\n",
      "In /home/konstantin/.local/lib/python3.6/site-packages/matplotlib/mpl-data/stylelib/_classic_test.mplstyle: \n",
      "The animation.avconv_path rcparam was deprecated in Matplotlib 3.3 and will be removed two minor releases later.\n",
      "In /home/konstantin/.local/lib/python3.6/site-packages/matplotlib/mpl-data/stylelib/_classic_test.mplstyle: \n",
      "The animation.avconv_args rcparam was deprecated in Matplotlib 3.3 and will be removed two minor releases later.\n"
     ]
    }
   ],
   "source": [
    "%run __init__.py\n",
    "%load_ext autoreload\n",
    "%autoreload 2"
   ]
  },
  {
   "cell_type": "code",
   "execution_count": 11,
   "metadata": {},
   "outputs": [
    {
     "name": "stdout",
     "output_type": "stream",
     "text": [
      "model\n",
      "\t         grid_size : 8\n",
      "\t   descriptor_size : 64\n",
      "\t        batch_norm : True\n",
      "\tsoft_nms_kernel_size : 7\n",
      "\t   nms_kernel_size : 3\n",
      "\t             top_k : 256\n",
      "\t   checkpoint_name : 4_ems=0.2371161\n",
      "criterion\n",
      "\tdet\n",
      "\t\t   nms_kernel_size : 3\n",
      "\t\t             top_k : 256\n",
      "\t\t gauss_kernel_size : 7\n",
      "\t\t       gauss_sigma : 0.5\n",
      "\t\t            lambda : 4.0\n",
      "\t\t      loss_version : 2\n",
      "\tdet_conf\n",
      "\t\t            lambda : 1.0\n",
      "\tdesc\n",
      "\t\t            margin : 1.0\n",
      "\t\t            lambda : 1.0\n",
      "dataset\n",
      "\tanalyze\n",
      "\t\tmegadepth\n",
      "\t\t\t      dataset_root : /home/konstantin/datasets/MegaDepthDataset\n",
      "\t\t\t   scene_info_root : /home/konstantin/datasets/MegaDepthDataset/SceneInfo\n",
      "\t\t\t          csv_path : /home/konstantin/datasets/MegaDepthDataset/SceneInfo/analyze_megadepth.csv\n",
      "\t\t\t            height : 240\n",
      "\t\t\t             width : 320\n",
      "\t\t\t      to_grayscale : True\n",
      "\t\t\t           sources : True\n",
      "loader\n",
      "\tanalyze\n",
      "\t\t        batch_size : 1\n",
      "\t\t       num_samples : 1\n",
      "\t\t           shuffle : False\n",
      "\t\t       num_workers : 8\n",
      "experiment\n",
      "\t        num_epochs : 1\n",
      "\t     return_output : True\n"
     ]
    }
   ],
   "source": [
    "model_config_path = '../configs/model.yaml'\n",
    "mode_config_path = '../configs/analyze.yaml'\n",
    "\n",
    "model_name = 'NetVGG'\n",
    "model_version = ''\n",
    "\n",
    "mode = 'analyze'\n",
    "dataset = 'megadepth'\n",
    "gpu = '2'\n",
    "\n",
    "experiment = create_experiment(model_config_path, mode_config_path, model_name, model_version,\n",
    "                               mode, dataset, gpu, '../')"
   ]
  },
  {
   "cell_type": "code",
   "execution_count": 12,
   "metadata": {},
   "outputs": [
    {
     "name": "stdout",
     "output_type": "stream",
     "text": [
      "Model 4_ems=0.2371161 is loaded\n"
     ]
    },
    {
     "name": "stderr",
     "output_type": "stream",
     "text": [
      "/home/konstantin/.local/lib/python3.6/site-packages/torch/nn/functional.py:2479: UserWarning: Default upsampling behavior when mode=bilinear is changed to align_corners=False since 0.4.0. Please specify align_corners=True if the old behavior is desired. See the documentation of nn.Upsample for details.\n",
      "  \"See the documentation of nn.Upsample for details.\".format(mode))\n"
     ]
    }
   ],
   "source": [
    "(batch, endpoint), metrics = experiment.run()"
   ]
  },
  {
   "cell_type": "code",
   "execution_count": 15,
   "metadata": {},
   "outputs": [],
   "source": [
    "image1 = batch.get(du.IMAGE1)\n",
    "image2 = batch.get(du.IMAGE2)\n",
    "\n",
    "score1 = endpoint[eu.SCORE1]\n",
    "score2 = endpoint[eu.SCORE2]\n",
    "\n",
    "kp1 = endpoint[eu.KP1]\n",
    "kp2 = endpoint[eu.KP2]\n",
    "\n",
    "w_kp1 = endpoint[eu.W_KP1]\n",
    "w_kp2 = endpoint[eu.W_KP2]\n",
    "\n",
    "w_vis_kp1_mask = endpoint[eu.W_VIS_KP1_MASK]\n",
    "w_vis_kp2_mask = endpoint[eu.W_VIS_KP2_MASK]\n",
    "\n",
    "desc1 = endpoint[eu.DESC1]\n",
    "desc2 = endpoint[eu.DESC2]\n",
    "\n",
    "kp1_desc = endpoint[eu.KP1_DESC]\n",
    "kp2_desc = endpoint[eu.KP2_DESC]\n",
    "\n",
    "shift_scale1 = batch.get(du.SHIFT_SCALE1)\n",
    "shift_scale2 = batch.get(du.SHIFT_SCALE2)\n",
    "\n",
    "intrinsics1 = batch.get(du.INTRINSICS1)\n",
    "intrinsics2 = batch.get(du.INTRINSICS2)\n",
    "\n",
    "extrinsics1 = batch.get(du.EXTRINSICS1)\n",
    "extrinsics2 = batch.get(du.EXTRINSICS2)"
   ]
  },
  {
   "cell_type": "code",
   "execution_count": 20,
   "metadata": {},
   "outputs": [
    {
     "ename": "IndexError",
     "evalue": "index 255 is out of bounds for dimension 0 with size 1",
     "output_type": "error",
     "traceback": [
      "\u001b[0;31m---------------------------------------------------------------------------\u001b[0m",
      "\u001b[0;31mIndexError\u001b[0m                                Traceback (most recent call last)",
      "\u001b[0;32m<ipython-input-20-fafb7086fb01>\u001b[0m in \u001b[0;36m<module>\u001b[0;34m\u001b[0m\n\u001b[1;32m      8\u001b[0m \u001b[0mneigh_mask_ids\u001b[0m \u001b[0;34m=\u001b[0m \u001b[0mcreate_neigh_mask_ids\u001b[0m\u001b[0;34m(\u001b[0m\u001b[0mw_desc_grid1\u001b[0m\u001b[0;34m,\u001b[0m \u001b[0mdesc_shape\u001b[0m\u001b[0;34m,\u001b[0m \u001b[0;36m8\u001b[0m\u001b[0;34m)\u001b[0m\u001b[0;34m\u001b[0m\u001b[0;34m\u001b[0m\u001b[0m\n\u001b[1;32m      9\u001b[0m \u001b[0;34m\u001b[0m\u001b[0m\n\u001b[0;32m---> 10\u001b[0;31m \u001b[0mcv_neight_mask\u001b[0m \u001b[0;34m=\u001b[0m \u001b[0mdraw_neigh_mask\u001b[0m\u001b[0;34m(\u001b[0m\u001b[0mimage2\u001b[0m\u001b[0;34m,\u001b[0m \u001b[0mw_desc_grid1\u001b[0m\u001b[0;34m[\u001b[0m\u001b[0;36m0\u001b[0m\u001b[0;34m]\u001b[0m\u001b[0;34m,\u001b[0m \u001b[0mneigh_mask_ids\u001b[0m\u001b[0;34m[\u001b[0m\u001b[0;36m0\u001b[0m\u001b[0;34m]\u001b[0m\u001b[0;34m,\u001b[0m \u001b[0mdesc_shape\u001b[0m\u001b[0;34m,\u001b[0m \u001b[0;36m8\u001b[0m\u001b[0;34m,\u001b[0m \u001b[0;36m482\u001b[0m\u001b[0;34m)\u001b[0m\u001b[0;34m\u001b[0m\u001b[0;34m\u001b[0m\u001b[0m\n\u001b[0m\u001b[1;32m     11\u001b[0m \u001b[0;34m\u001b[0m\u001b[0m\n\u001b[1;32m     12\u001b[0m \u001b[0mplot_figures\u001b[0m\u001b[0;34m(\u001b[0m\u001b[0;34m{\u001b[0m\u001b[0;34m't'\u001b[0m\u001b[0;34m:\u001b[0m \u001b[0mcv_neight_mask\u001b[0m\u001b[0;34m}\u001b[0m\u001b[0;34m,\u001b[0m \u001b[0;36m1\u001b[0m\u001b[0;34m,\u001b[0m \u001b[0;36m1\u001b[0m\u001b[0;34m,\u001b[0m \u001b[0;34m(\u001b[0m\u001b[0;36m18\u001b[0m\u001b[0;34m,\u001b[0m \u001b[0;36m18\u001b[0m\u001b[0;34m)\u001b[0m\u001b[0;34m)\u001b[0m\u001b[0;34m\u001b[0m\u001b[0;34m\u001b[0m\u001b[0m\n",
      "\u001b[0;32m/mnt/Vol0/home/konstantin/Summertime/Net/source/utils/eval_utils.py\u001b[0m in \u001b[0;36mdraw_neigh_mask\u001b[0;34m(image2, w_desc_grid1, neigh_mask_ids, desc_shape, grid_size, w_desc_id)\u001b[0m\n\u001b[1;32m    194\u001b[0m     \u001b[0mw_desc_neigh_points\u001b[0m \u001b[0;34m=\u001b[0m \u001b[0mflat2grid\u001b[0m\u001b[0;34m(\u001b[0m\u001b[0mw_desc_neigh_id\u001b[0m\u001b[0;34m,\u001b[0m \u001b[0mwc\u001b[0m\u001b[0;34m)\u001b[0m\u001b[0;34m.\u001b[0m\u001b[0mcpu\u001b[0m\u001b[0;34m(\u001b[0m\u001b[0;34m)\u001b[0m\u001b[0;34m.\u001b[0m\u001b[0mnumpy\u001b[0m\u001b[0;34m(\u001b[0m\u001b[0;34m)\u001b[0m \u001b[0;34m*\u001b[0m \u001b[0mgrid_size\u001b[0m\u001b[0;34m\u001b[0m\u001b[0;34m\u001b[0m\u001b[0m\n\u001b[1;32m    195\u001b[0m \u001b[0;34m\u001b[0m\u001b[0m\n\u001b[0;32m--> 196\u001b[0;31m     \u001b[0mcv_image\u001b[0m \u001b[0;34m=\u001b[0m \u001b[0mdraw_cv_keypoints\u001b[0m\u001b[0;34m(\u001b[0m\u001b[0mimage2\u001b[0m\u001b[0;34m,\u001b[0m \u001b[0mw_desc_point\u001b[0m\u001b[0;34m,\u001b[0m \u001b[0;34m(\u001b[0m\u001b[0;36m255\u001b[0m\u001b[0;34m,\u001b[0m \u001b[0;36m0\u001b[0m\u001b[0;34m,\u001b[0m \u001b[0;36m0\u001b[0m\u001b[0;34m)\u001b[0m\u001b[0;34m)\u001b[0m\u001b[0;34m\u001b[0m\u001b[0;34m\u001b[0m\u001b[0m\n\u001b[0m\u001b[1;32m    197\u001b[0m     \u001b[0mcv_image\u001b[0m \u001b[0;34m=\u001b[0m \u001b[0mdraw_cv_keypoints\u001b[0m\u001b[0;34m(\u001b[0m\u001b[0mimage2\u001b[0m\u001b[0;34m,\u001b[0m \u001b[0mw_desc_neigh_points\u001b[0m\u001b[0;34m,\u001b[0m \u001b[0;34m(\u001b[0m\u001b[0;36m0\u001b[0m\u001b[0;34m,\u001b[0m \u001b[0;36m255\u001b[0m\u001b[0;34m,\u001b[0m \u001b[0;36m0\u001b[0m\u001b[0;34m)\u001b[0m\u001b[0;34m)\u001b[0m\u001b[0;34m\u001b[0m\u001b[0;34m\u001b[0m\u001b[0m\n\u001b[1;32m    198\u001b[0m \u001b[0;34m\u001b[0m\u001b[0m\n",
      "\u001b[0;32m/mnt/Vol0/home/konstantin/Summertime/Net/source/utils/eval_utils.py\u001b[0m in \u001b[0;36mdraw_cv_keypoints\u001b[0;34m(image, kp, batch_id, vis_kp_mask, color)\u001b[0m\n\u001b[1;32m    127\u001b[0m     \u001b[0;34m:\u001b[0m\u001b[0mparam\u001b[0m \u001b[0mcolor\u001b[0m\u001b[0;34m:\u001b[0m \u001b[0mtuple\u001b[0m \u001b[0;34m(\u001b[0m\u001b[0mr\u001b[0m\u001b[0;34m,\u001b[0m \u001b[0mg\u001b[0m\u001b[0;34m,\u001b[0m \u001b[0mb\u001b[0m\u001b[0;34m)\u001b[0m\u001b[0;34m\u001b[0m\u001b[0;34m\u001b[0m\u001b[0m\n\u001b[1;32m    128\u001b[0m     \"\"\"\n\u001b[0;32m--> 129\u001b[0;31m     \u001b[0mcv_image\u001b[0m \u001b[0;34m=\u001b[0m \u001b[0mtorch2cv\u001b[0m\u001b[0;34m(\u001b[0m\u001b[0mimage\u001b[0m\u001b[0;34m[\u001b[0m\u001b[0mbatch_id\u001b[0m\u001b[0;34m]\u001b[0m\u001b[0;34m)\u001b[0m\u001b[0;34m\u001b[0m\u001b[0;34m\u001b[0m\u001b[0m\n\u001b[0m\u001b[1;32m    130\u001b[0m \u001b[0;34m\u001b[0m\u001b[0m\n\u001b[1;32m    131\u001b[0m     \u001b[0;32mif\u001b[0m \u001b[0mvis_kp_mask\u001b[0m \u001b[0;32mis\u001b[0m \u001b[0;32mnot\u001b[0m \u001b[0;32mNone\u001b[0m\u001b[0;34m:\u001b[0m\u001b[0;34m\u001b[0m\u001b[0;34m\u001b[0m\u001b[0m\n",
      "\u001b[0;31mIndexError\u001b[0m: index 255 is out of bounds for dimension 0 with size 1"
     ]
    }
   ],
   "source": [
    "from Net.source.nn.net.utils.criterion_utils import create_w_desc_grid, create_neigh_mask_ids\n",
    "from Net.source.utils.eval_utils import draw_neigh_mask\n",
    "\n",
    "desc_shape = desc2.shape\n",
    "\n",
    "w_desc_grid1, w_vis_desc_grid_mask1, w_desc_grid2, w_vis_desc_grid_mask2 = create_w_desc_grid(image1, image2, batch, 8)\n",
    "\n",
    "neigh_mask_ids = create_neigh_mask_ids(w_desc_grid1, desc_shape, 8)\n",
    "\n",
    "cv_neight_mask = draw_neigh_mask(image2, w_desc_grid1[0], neigh_mask_ids[0], desc_shape, 8, 482)\n",
    "\n",
    "plot_figures({'t': cv_neight_mask}, 1, 1, (18, 18))"
   ]
  },
  {
   "cell_type": "code",
   "execution_count": 9,
   "metadata": {},
   "outputs": [],
   "source": [
    "# s_image1 = batch[S_IMAGE1]\n",
    "# s_image2 = batch[S_IMAGE2]\n",
    "\n",
    "# kp1 = batch[KP1]\n",
    "# kp2 = batch[KP2]\n",
    "\n",
    "# w_kp1 = batch[W_KP1]\n",
    "# w_kp2 = batch[W_KP2]\n",
    "\n",
    "# score1 = batch[SCORE1]\n",
    "# score2 = batch[SCORE2]\n",
    "\n",
    "# wv_kp2_mask = batch[WV_KP2_MASK]\n",
    "# wv_kp1_mask = batch[WV_KP1_MASK]\n",
    "\n",
    "# desc1 = batch[DESC1]\n",
    "# desc2 = batch[DESC2]\n",
    "\n",
    "# w_vis_mask1 = batch[W_VIS_MASK1]\n",
    "# w_vis_mask2 = batch[W_VIS_MASK2]\n",
    "\n",
    "# debug1 = batch[DEBUG1]\n",
    "# debug2 = batch[DEBUG2]\n",
    "\n",
    "# homo12 = batch[HOMO12]\n",
    "# homo21 = batch[HOMO21]"
   ]
  },
  {
   "cell_type": "code",
   "execution_count": 8,
   "metadata": {},
   "outputs": [],
   "source": [
    "# # FOS \n",
    "\n",
    "# grid_size = 8\n",
    "# margin = 1\n",
    "# loss_lambda = 1\n",
    "\n",
    "# b, c, hc, wc = desc1.size()\n",
    "# flat = hc * wc\n",
    "\n",
    "# coo_grid1 = create_desc_coordinates_grid(desc1, grid_size, False).to(desc1.device)\n",
    "# w_coo_grid1 = warp_coordinates_grid(coo_grid1, homo12).view(b, -1, 2)\n",
    "# w_coo_grid1 = w_coo_grid1[:, :, [1, 0]]\n",
    "\n",
    "# w_desc1 = sample_descriptors(desc2, w_coo_grid1, grid_size)\n",
    "\n",
    "# # Create neigh mask\n",
    "# coo_grid2 = create_center_desc_coordinates_grid(desc2, grid_size).view(b, -1, 2).to(desc2.device)\n",
    "# coo_dist = calculate_distance_matrix(w_coo_grid1, coo_grid2)\n",
    "# _, ul = coo_dist.min(dim=-1)\n",
    "\n",
    "# ul = ul.unsqueeze(-1)\n",
    "\n",
    "# ur = ul + 1\n",
    "# ur = torch.where(ur >= flat, ul, ur)\n",
    "\n",
    "# ll = ul + wc\n",
    "# ll = torch.where(ll >= flat, ul, ll)\n",
    "\n",
    "# lr = ll + 1\n",
    "# lr = torch.where(lr >= flat, ul, lr)\n",
    "\n",
    "# mask_ids = torch.cat([ul, ur, ll, lr], dim=-1)\n",
    "\n",
    "# neigh_mask = torch.zeros_like(coo_dist).to(coo_dist.device)\n",
    "# neigh_mask = neigh_mask.scatter(dim=-1, index=mask_ids, value=1)\n",
    "\n",
    "# # Prepare visibility mask\n",
    "# w_vis_mask1 = space_to_depth(w_vis_mask1, grid_size)\n",
    "# w_vis_mask1 = w_vis_mask1.prod(dim=1).unsqueeze(1).view(b, 1, -1)\n",
    "\n",
    "# # Get positive and negative matches\n",
    "# desc1 = desc1.view(b, c, -1).permute((0, 2, 1))\n",
    "# desc2 = desc2.view(b, c, -1).permute((0, 2, 1))\n",
    "\n",
    "# desc_sim = calculate_inv_similarity_matrix(desc1, desc2)\n",
    "# desc_sim = desc_sim + neigh_mask * 5\n",
    "# desc_sim = desc_sim + (1 - w_vis_mask1.float()) * 5\n",
    "\n",
    "# wv_match_mask1 = get_visible_keypoints_mask(score2, w_coo_grid1).float()\n",
    "\n",
    "# pos_sim = calculate_inv_similarity_vector(desc1, w_desc1)\n",
    "# neg_sim = desc_sim.min(dim=-1)[0]\n",
    "\n",
    "# loss = torch.clamp(pos_sim - neg_sim + margin, min=0) ** 2 * wv_match_mask1\n",
    "# loss = loss.sum() / wv_match_mask1.sum() * loss_lambda\n",
    "\n",
    "# print(loss)"
   ]
  },
  {
   "cell_type": "code",
   "execution_count": 7,
   "metadata": {},
   "outputs": [],
   "source": [
    "# cv_s_image1 = torch2cv(s_image1.squeeze(0))\n",
    "# cv_s_image2 = torch2cv(s_image2.squeeze(0))\n",
    "\n",
    "# coo_grid1 = coo_grid1.view(b, -1, 2)[:, :, [1, 0]]"
   ]
  },
  {
   "cell_type": "code",
   "execution_count": 6,
   "metadata": {},
   "outputs": [],
   "source": [
    "# cell_id = 2300\n",
    "\n",
    "# image1_cell = coo_grid1[0, cell_id].unsqueeze(0)\n",
    "# w_image1_cell = w_coo_grid1[0, cell_id].unsqueeze(0)\n",
    "\n",
    "# w_image1_cells = flat2grid(neigh_mask[0, cell_id].nonzero(), wc).squeeze(1) * grid_size"
   ]
  },
  {
   "cell_type": "code",
   "execution_count": 5,
   "metadata": {},
   "outputs": [],
   "source": [
    "# res_image1 = draw_cv_keypoints(cv_s_image1, image1_cell, (0, 255, 0))\n",
    "\n",
    "# res_image2 = draw_cv_keypoints(cv_s_image2, w_image1_cell, (0, 255, 0))\n",
    "# res_image2 = draw_cv_keypoints(res_image2, w_image1_cells, (0, 0, 255))\n",
    "\n",
    "# plot_figures({'img1': res_image1,\n",
    "#               'img2': res_image2}, 2, 1, (18, 18))"
   ]
  },
  {
   "cell_type": "code",
   "execution_count": 4,
   "metadata": {},
   "outputs": [],
   "source": [
    "# # SOS\n",
    "# sos_neg = 4\n",
    "\n",
    "# cells1_mask = torch.eye(coo_grid1.size(1)).repeat(b, 1, 1)\n",
    "\n",
    "# mask_ids = mask_ids.view(b, -1)\n",
    "\n",
    "# w_cell1_dist = calculate_difference_matrix(mask_ids, mask_ids)\n",
    "# w_cell1_mask = w_cell1_dist.eq(0).view(b, flat, 4, flat, 4).sum(-1).sum(-2).float()\n",
    "\n",
    "# cells1_sim  = calculate_inv_similarity_matrix(desc1, desc1)\n",
    "# cells1_sim = cells1_sim + cells1_mask * 5\n",
    "\n",
    "# w_cells1_sim = calculate_inv_similarity_matrix(w_desc1, w_desc1)\n",
    "# w_cells1_sim = w_cells_sim + w_cell1_mask * 5\n",
    "\n",
    "# _, cells1_neg_ids = cells1_sim.topk(k=sos_neg, dim=-1, largest=False)\n",
    "# _, w_cells1_neg_ids = w_cells1_sim.topk(k=sos_neg, dim=-1, largest=False)\n",
    "\n",
    "# cells1_neg_ids = cells1_neg_ids.view(b, flat * sos_neg).unsqueeze(-1).repeat(1, 1, c)\n",
    "# w_cells1_neg_ids = w_cells1_neg_ids.view(b, flat * sos_neg).unsqueeze(-1).repeat(1, 1, c)\n",
    "\n",
    "# cells1_neg_desc = desc1.gather(dim=1, index=cells1_neg_ids)\n",
    "# w_cells1_neg_desc = w_desc1.gather(dim=1, index=w_cells1_neg_ids)\n",
    "\n",
    "# desc1 = desc1.unsqueeze(2).repeat(1, 1, sos_neg, 1).view(b, flat * sos_neg, c)\n",
    "# w_desc1 = w_desc1.unsqueeze(2).repeat(1, 1, sos_neg, 1).view(b, flat * sos_neg, c)\n",
    "\n",
    "# sos = calculate_inv_similarity_vector(desc1, cells1_neg_desc) - calculate_inv_similarity_vector(w_desc1, w_cells1_neg_desc)\n",
    "\n",
    "# sos = (sos ** 2).view(b, flat, sos_neg).sum(-1).sqrt().mean()\n",
    "\n",
    "# print(sos)"
   ]
  },
  {
   "cell_type": "code",
   "execution_count": 3,
   "metadata": {},
   "outputs": [],
   "source": [
    "# w_image1_cell_mask = w_coo_grid1[0, w_cell1_mask[0, cell_id].nonzero()].squeeze(1)"
   ]
  },
  {
   "cell_type": "code",
   "execution_count": 2,
   "metadata": {},
   "outputs": [],
   "source": [
    "# res_image1 = draw_cv_keypoints(cv_s_image1, image1_cell, (0, 0, 255))\n",
    "\n",
    "# res_image2 = draw_cv_keypoints(cv_s_image2, w_image1_cell, (0, 0, 255))\n",
    "# res_image2 = draw_cv_keypoints(res_image2, w_image1_cells, (0, 0, 255))\n",
    "# res_image2 = draw_cv_keypoints(res_image2, w_image1_cell_mask, (255, 0, 255))\n"
   ]
  },
  {
   "cell_type": "code",
   "execution_count": 1,
   "metadata": {},
   "outputs": [],
   "source": [
    "# plot_figures({'img1': res_image1,\n",
    "#               'img2': res_image2}, 2, 1, (18, 18))"
   ]
  },
  {
   "cell_type": "code",
   "execution_count": null,
   "metadata": {},
   "outputs": [],
   "source": []
  }
 ],
 "metadata": {
  "kernelspec": {
   "display_name": "Python 3",
   "language": "python",
   "name": "python3"
  },
  "language_info": {
   "codemirror_mode": {
    "name": "ipython",
    "version": 3
   },
   "file_extension": ".py",
   "mimetype": "text/x-python",
   "name": "python",
   "nbconvert_exporter": "python",
   "pygments_lexer": "ipython3",
   "version": "3.6.9"
  }
 },
 "nbformat": 4,
 "nbformat_minor": 2
}
