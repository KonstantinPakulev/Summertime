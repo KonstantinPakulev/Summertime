{
 "cells": [
  {
   "cell_type": "code",
   "execution_count": 257,
   "metadata": {
    "collapsed": true,
    "pycharm": {
     "is_executing": false
    }
   },
   "outputs": [
    {
     "name": "stdout",
     "text": [
      "The autoreload extension is already loaded. To reload it, use:\n  %reload_ext autoreload\n"
     ],
     "output_type": "stream"
    }
   ],
   "source": [
    "import cv2\n",
    "import numpy as np\n",
    "import os\n",
    "from MagicBox.dataset.artificial_dataset import ArtificialDataset\n",
    "from utils import plot_images\n",
    "import yaml\n",
    "\n",
    "%load_ext autoreload\n",
    "%autoreload 2\n",
    "%matplotlib inline\n"
   ]
  },
  {
   "cell_type": "code",
   "execution_count": 261,
   "outputs": [
    {
     "name": "stderr",
     "text": [
      "\n\n",
      "\rtraining:   0%|          | 0/2 [00:00<?, ?it/s]",
      "\u001b[A\u001b[A",
      "\n\n",
      "\r                                               ",
      "\u001b[A\u001b[A",
      "\n\n",
      "\rvalidation:   0%|          | 0/2 [00:00<?, ?it/s]",
      "\u001b[A\u001b[A",
      "\n\n",
      "\r                                                 ",
      "\u001b[A\u001b[A",
      "\n\n",
      "\rtest:   0%|          | 0/2 [00:00<?, ?it/s]",
      "\u001b[A\u001b[A",
      "\n\n",
      "\r                                           ",
      "\u001b[A\u001b[A",
      "\n\n",
      "\rtraining:   0%|          | 0/2 [00:00<?, ?it/s]",
      "\u001b[A\u001b[A",
      "\n\n",
      "\r                                               ",
      "\u001b[A\u001b[A",
      "\n\n",
      "\rvalidation:   0%|          | 0/2 [00:00<?, ?it/s]",
      "\u001b[A\u001b[A",
      "\n\n",
      "\r                                                 ",
      "\u001b[A\u001b[A",
      "\n\n",
      "\rtest:   0%|          | 0/2 [00:00<?, ?it/s]",
      "\u001b[A\u001b[A",
      "\n\n",
      "\r                                           ",
      "\u001b[A\u001b[A",
      "\n\n",
      "\rtraining:   0%|          | 0/2 [00:00<?, ?it/s]",
      "\u001b[A\u001b[A",
      "\n\n",
      "\rtraining:  50%|█████     | 1/2 [00:00<00:00,  4.13it/s]",
      "\u001b[A\u001b[A",
      "\n\n",
      "\rtraining: 100%|██████████| 2/2 [00:00<00:00,  4.07it/s]",
      "\u001b[A\u001b[A",
      "\n\n",
      "\r                                                       ",
      "\u001b[A\u001b[A",
      "\n\n",
      "\rvalidation:   0%|          | 0/2 [00:00<?, ?it/s]",
      "\u001b[A\u001b[A",
      "\n\n",
      "\rvalidation:  50%|█████     | 1/2 [00:00<00:00,  3.66it/s]",
      "\u001b[A\u001b[A",
      "\n\n",
      "\rvalidation: 100%|██████████| 2/2 [00:00<00:00,  3.41it/s]",
      "\u001b[A\u001b[A",
      "\n\n",
      "\r                                                         ",
      "\u001b[A\u001b[A",
      "\n\n",
      "\rtest:   0%|          | 0/2 [00:00<?, ?it/s]",
      "\u001b[A\u001b[A",
      "\n\n",
      "\rtest:  50%|█████     | 1/2 [00:00<00:00,  4.32it/s]",
      "\u001b[A\u001b[A",
      "\n\n",
      "\rtest: 100%|██████████| 2/2 [00:00<00:00,  3.87it/s]",
      "\u001b[A\u001b[A",
      "\n\n",
      "\r                                                   ",
      "\u001b[A\u001b[A",
      "\n\n",
      "\rtraining:   0%|          | 0/2 [00:00<?, ?it/s]",
      "\u001b[A\u001b[A",
      "\n\n",
      "\r                                               ",
      "\u001b[A\u001b[A",
      "\n\n",
      "\rvalidation:   0%|          | 0/2 [00:00<?, ?it/s]",
      "\u001b[A\u001b[A",
      "\n\n",
      "\r                                                 ",
      "\u001b[A\u001b[A",
      "\n\n",
      "\rtest:   0%|          | 0/2 [00:00<?, ?it/s]",
      "\u001b[A\u001b[A",
      "\n\n",
      "\r                                           ",
      "\u001b[A\u001b[A",
      "\n\n",
      "\rtraining:   0%|          | 0/2 [00:00<?, ?it/s]",
      "\u001b[A\u001b[A",
      "\n\n",
      "\r                                               ",
      "\u001b[A\u001b[A",
      "\n\n",
      "\rvalidation:   0%|          | 0/2 [00:00<?, ?it/s]",
      "\u001b[A\u001b[A",
      "\n\n",
      "\r                                                 ",
      "\u001b[A\u001b[A",
      "\n\n",
      "\rtest:   0%|          | 0/2 [00:00<?, ?it/s]",
      "\u001b[A\u001b[A",
      "\n\n",
      "\r                                           ",
      "\u001b[A\u001b[A",
      "\n\n",
      "\rtraining:   0%|          | 0/2 [00:00<?, ?it/s]",
      "\u001b[A\u001b[A",
      "\n\n",
      "\r                                               ",
      "\u001b[A\u001b[A",
      "\n\n",
      "\rvalidation:   0%|          | 0/2 [00:00<?, ?it/s]",
      "\u001b[A\u001b[A",
      "\n\n",
      "\r                                                 ",
      "\u001b[A\u001b[A",
      "\n\n",
      "\rtest:   0%|          | 0/2 [00:00<?, ?it/s]",
      "\u001b[A\u001b[A",
      "\n\n",
      "\r                                           ",
      "\u001b[A\u001b[A",
      "\n\n",
      "\rtraining:   0%|          | 0/2 [00:00<?, ?it/s]",
      "\u001b[A\u001b[A",
      "\n\n",
      "\r                                               ",
      "\u001b[A\u001b[A",
      "\n\n",
      "\rvalidation:   0%|          | 0/2 [00:00<?, ?it/s]",
      "\u001b[A\u001b[A",
      "\n\n",
      "\r                                                 ",
      "\u001b[A\u001b[A",
      "\n\n",
      "\rtest:   0%|          | 0/2 [00:00<?, ?it/s]",
      "\u001b[A\u001b[A",
      "\n\n",
      "\r                                           ",
      "\u001b[A\u001b[A",
      "\n\n",
      "\rtraining:   0%|          | 0/2 [00:00<?, ?it/s]",
      "\u001b[A\u001b[A",
      "\n\n",
      "\r                                               ",
      "\u001b[A\u001b[A",
      "\n\n",
      "\rvalidation:   0%|          | 0/2 [00:00<?, ?it/s]",
      "\u001b[A\u001b[A",
      "\n\n",
      "\r                                                 ",
      "\u001b[A\u001b[A",
      "\n\n",
      "\rtest:   0%|          | 0/2 [00:00<?, ?it/s]",
      "\u001b[A\u001b[A",
      "\n\n",
      "\r                                           ",
      "\u001b[A\u001b[A",
      "\n\n",
      "\rtraining:   0%|          | 0/2 [00:00<?, ?it/s]",
      "\u001b[A\u001b[A",
      "\n\n",
      "\r                                               ",
      "\u001b[A\u001b[A",
      "\n\n",
      "\rvalidation:   0%|          | 0/2 [00:00<?, ?it/s]",
      "\u001b[A\u001b[A",
      "\n\n",
      "\r                                                 ",
      "\u001b[A\u001b[A",
      "\n\n",
      "\rtest:   0%|          | 0/2 [00:00<?, ?it/s]",
      "\u001b[A\u001b[A",
      "\n\n",
      "\r                                           ",
      "\u001b[A\u001b[A"
     ],
     "output_type": "stream"
    }
   ],
   "source": [
    "with open(os.path.join('..', 'config.yaml'), 'r') as f:\n",
    "    config = yaml.safe_load(f)\n",
    "    gen = ArtificialDataset('training', config['data'])\n"
   ],
   "metadata": {
    "collapsed": false,
    "pycharm": {
     "name": "#%%\n",
     "is_executing": false
    }
   }
  },
  {
   "cell_type": "code",
   "execution_count": 262,
   "outputs": [],
   "source": [
    "config = {\n",
    "    'data_path': '../dataset',\n",
    "    'suffix': 'v1',\n",
    "    'primitives': 'all',\n",
    "    'validation_size': 30,\n",
    "    'test_size': 50,\n",
    "    'truncate': {'draw_ellipses': 0.3, 'draw_stripes': 0.2, 'gaussian_noise': 0.1},\n",
    "    'preprocessing': {'resize': [120, 160], 'blur_size': 21}\n",
    "}\n",
    "\n",
    "dataset = ArtificialDataset('test', config)\n"
   ],
   "metadata": {
    "collapsed": false,
    "pycharm": {
     "name": "#%%\n",
     "is_executing": false
    }
   }
  },
  {
   "cell_type": "code",
   "execution_count": 270,
   "outputs": [
    {
     "name": "stdout",
     "text": [
      "/tmp/draw_multiple_polygons/points/test/0.npy\n[[111.     60.375]\n [ 26.375  59.375]\n [ 69.125  20.   ]\n [122.875  82.375]\n [127.375  68.875]\n [144.375  75.375]\n [ 39.     86.75 ]\n [ 35.875  74.5  ]\n [ 44.375  75.   ]\n [126.875  62.625]\n [ 96.625  19.25 ]\n [106.25    5.   ]\n [ 33.875  43.875]\n [ 10.     40.5  ]\n [ 30.25   24.125]\n [ 49.125  21.125]\n [ 31.25   10.   ]\n [ 49.625  12.75 ]\n [123.5    84.   ]\n [117.75   71.625]\n [141.125  61.125]\n [147.125  76.625]]\n"
     ],
     "output_type": "stream"
    },
    {
     "data": {
      "text/plain": "<Figure size 1200x1200 with 1 Axes>",
      "image/png": "[encoded data removed]"
     },
     "metadata": {},
     "output_type": "display_data"
    }
   ],
   "source": [
    "def draw_keypoints(img, points, color):\n",
    "    keypoints = [cv2.KeyPoint(c[1], c[0], 1) for c in np.stack(points).T]\n",
    "    return cv2.drawKeypoints(img[0].astype(np.uint8), keypoints, None, color=color)\n",
    "\n",
    "rows = 1\n",
    "columns = 1 \n",
    "\n",
    "for _ in range(rows):\n",
    "    frames = []\n",
    "    for _ in range(columns):\n",
    "        np.random.seed(25)\n",
    "        \n",
    "        index = np.random.randint(low=0, high=dataset.__len__())\n",
    "        image, points, keypoint_map = dataset.__getitem__(index)\n",
    "        \n",
    "        print(points)\n",
    "        \n",
    "        frame = draw_keypoints(image, np.where(keypoint_map), (0, 255, 0))\n",
    "        frames.append(frame / 255)\n",
    "        \n",
    "    plot_images(frames, dpi=200)"
   ],
   "metadata": {
    "collapsed": false,
    "pycharm": {
     "name": "#%%\n",
     "is_executing": false
    }
   }
  },
  {
   "cell_type": "code",
   "execution_count": 185,
   "outputs": [
    {
     "name": "stdout",
     "text": [
      "[[140.875   5.875]\n [ 78.375  15.75 ]\n [151.125  77.625]\n [  3.375 102.75 ]\n [104.25   22.25 ]\n [ 77.125  30.625]]\n"
     ],
     "output_type": "stream"
    }
   ],
   "source": [
    "\n"
   ],
   "metadata": {
    "collapsed": false,
    "pycharm": {
     "name": "#%%\n",
     "is_executing": false
    }
   }
  }
 ],
 "metadata": {
  "language_info": {
   "codemirror_mode": {
    "name": "ipython",
    "version": 2
   },
   "file_extension": ".py",
   "mimetype": "text/x-python",
   "name": "python",
   "nbconvert_exporter": "python",
   "pygments_lexer": "ipython2",
   "version": "2.7.6"
  },
  "kernelspec": {
   "name": "pycharm-95606ff0",
   "language": "python",
   "display_name": "PyCharm (Summertime)"
  },
  "pycharm": {
   "stem_cell": {
    "cell_type": "raw",
    "source": [],
    "metadata": {
     "collapsed": false
    }
   }
  }
 },
 "nbformat": 4,
 "nbformat_minor": 0
}